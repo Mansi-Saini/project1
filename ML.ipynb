{
  "nbformat": 4,
  "nbformat_minor": 0,
  "metadata": {
    "colab": {
      "name": "Untitled7.ipynb",
      "provenance": [],
      "authorship_tag": "ABX9TyMQ3e7GKUzLcRmtuth+EHM1",
      "include_colab_link": true
    },
    "kernelspec": {
      "name": "python3",
      "display_name": "Python 3"
    },
    "language_info": {
      "name": "python"
    }
  },
  "cells": [
    {
      "cell_type": "markdown",
      "metadata": {
        "id": "view-in-github",
        "colab_type": "text"
      },
      "source": [
        "<a href=\"https://colab.research.google.com/github/Mansi-Saini/project1/blob/main/ML.ipynb\" target=\"_parent\"><img src=\"https://colab.research.google.com/assets/colab-badge.svg\" alt=\"Open In Colab\"/></a>"
      ]
    },
    {
      "cell_type": "code",
      "execution_count": null,
      "metadata": {
        "id": "Q-irlQITJ_Xu"
      },
      "outputs": [],
      "source": [
        "import pandas as pd\n",
        "import numpy as np\n",
        "import random as rnd\n",
        "import matplotlib.pyplot as plt\n",
        "import seaborn as sns\n",
        "%matplotlib inline"
      ]
    },
    {
      "cell_type": "code",
      "source": [
        "url = 'https://raw.githubusercontent.com/Mansi-Saini/project1/main/input.csv'\n",
        "df = pd.read_csv(url)\n",
        "\n",
        "features = df[['Meta_score','No_of_Votes','Gross','Runtime','IMDB_Rating','Certificate','Genre']].values\n",
        "df = pd.DataFrame(features, columns = ['Meta_score','No_of_Votes','Gross','Runtime','IMDB_Rating','Certificate','Genre'])\n",
        "\n",
        "#deleting rows having null values\n",
        "df.dropna(inplace=True)\n",
        "\n",
        "df = (df.set_index(['Meta_score','No_of_Votes','Gross','Runtime','IMDB_Rating','Certificate']).apply(lambda x: x.str.split(',').explode()).reset_index())"
      ],
      "metadata": {
        "id": "qCHqdTs1KDR4"
      },
      "execution_count": null,
      "outputs": []
    },
    {
      "cell_type": "code",
      "source": [
        "#converting object type into float\n",
        "df[\"No_of_Votes\"] = df[\"No_of_Votes\"].astype(np.float64)\n",
        "df[\"Meta_score\"] = df[\"Meta_score\"].astype(np.float64)\n",
        "df['Gross'] = df['Gross'].str.replace(',','').astype(np.float64)\n",
        "df['Runtime'] = df['Runtime'].str.replace('min','').astype(np.float64)\n",
        "df[\"IMDB_Rating\"] = df[\"IMDB_Rating\"].astype(np.float64)\n",
        "\n",
        "#replacing gener values with numbers\n",
        "df['Genre'] = df['Genre'].replace(['Drama', 'Crime', ' Drama', 'Action', ' Crime', ' Adventure',\n",
        "       'Biography', ' History', ' Sci-Fi', ' Romance', 'Western',\n",
        "       ' Fantasy', 'Comedy', ' Thriller', 'Adventure', 'Animation',\n",
        "       ' Family', ' War', ' Mystery', ' Music', ' Comedy', 'Horror',\n",
        "       ' Action', ' Western', 'Mystery', ' Horror', ' Sport',\n",
        "       ' Biography', ' Musical', ' Film-Noir', 'Film-Noir', 'Family'],[1,2,3,4,5,6,7,8,9,10,11,12,13,14,15,16,17,18,19,20,21,22,23,24,25,26,27,28,29,30,31,32])\n",
        "\n",
        "#replacing certificate values with numbers\n",
        "df['Certificate'] = df['Certificate'].replace(['A', 'UA', 'U', 'R', 'G', 'PG-13', 'PG', 'Passed', 'Approved',\n",
        "       'TV-PG', 'U/A', 'GP'],[1,2,3,4,5,6,7,8,9,10,11,12])"
      ],
      "metadata": {
        "id": "QHURDtLsKHtI"
      },
      "execution_count": null,
      "outputs": []
    },
    {
      "cell_type": "code",
      "source": [
        "from sklearn.model_selection import train_test_split\n",
        "X_train, X_test, y_train, y_test = train_test_split(df.drop('IMDB_Rating',axis=1), df['IMDB_Rating'], test_size=0.25, random_state=6)"
      ],
      "metadata": {
        "id": "FaatLPukKQTC"
      },
      "execution_count": null,
      "outputs": []
    },
    {
      "cell_type": "code",
      "source": [
        "from sklearn.linear_model import LinearRegression\n",
        "#train\n",
        "regressor = LinearRegression()\n",
        "regressor.fit(X_train, y_train)\n",
        "print(regressor)\n",
        "#test\n",
        "y_pred = regressor.predict(X_test)\n",
        "r2_score = regressor.score(X_test,y_test)\n",
        "print(r2_score*100,'%')"
      ],
      "metadata": {
        "colab": {
          "base_uri": "https://localhost:8080/"
        },
        "id": "dA_IqlHMKSfM",
        "outputId": "88da1516-f2dc-4515-8e60-9a2957914c81"
      },
      "execution_count": null,
      "outputs": [
        {
          "output_type": "stream",
          "name": "stdout",
          "text": [
            "LinearRegression()\n",
            "54.74724386960123 %\n"
          ]
        }
      ]
    },
    {
      "cell_type": "code",
      "source": [
        "from sklearn.tree import DecisionTreeRegressor \n",
        "#train\n",
        "regressor = DecisionTreeRegressor(random_state = 0) \n",
        "regressor.fit(X_train, y_train)\n",
        "print(regressor)\n",
        "#test\n",
        "y_pred = regressor.predict(X_test)\n",
        "r2_score = regressor.score(X_test,y_test)\n",
        "print(r2_score*100,'%')"
      ],
      "metadata": {
        "colab": {
          "base_uri": "https://localhost:8080/"
        },
        "id": "eiRru-s9KzLq",
        "outputId": "547fba68-a519-4423-bd54-2747a0d54051"
      },
      "execution_count": null,
      "outputs": [
        {
          "output_type": "stream",
          "name": "stdout",
          "text": [
            "DecisionTreeRegressor(random_state=0)\n",
            "92.2873997527462 %\n"
          ]
        }
      ]
    },
    {
      "cell_type": "code",
      "source": [
        "from sklearn.metrics import mean_squared_error \n",
        "from sklearn.neighbors import KNeighborsRegressor\n",
        "#train\n",
        "regressor = KNeighborsRegressor(n_neighbors=9)\n",
        "print(regressor)\n",
        "KNeighborsRegressor(algorithm='auto', leaf_size=30, metric='minkowski',\n",
        "          metric_params=None, n_jobs=1, n_neighbors=8, p=2,\n",
        "          weights='uniform') \n",
        "regressor.fit(X_train, y_train)\n",
        "#test\n",
        "y_pred = regressor.predict(X_test)\n",
        "r2_score = regressor.score(X_test,y_test)\n",
        "print(r2_score*100,'%')"
      ],
      "metadata": {
        "colab": {
          "base_uri": "https://localhost:8080/"
        },
        "id": "rsATwBVrK3G_",
        "outputId": "e8f24435-1ffa-47db-e31e-76847c0182d4"
      },
      "execution_count": null,
      "outputs": [
        {
          "output_type": "stream",
          "name": "stdout",
          "text": [
            "KNeighborsRegressor(n_neighbors=9)\n",
            "17.74605411913447 %\n"
          ]
        }
      ]
    },
    {
      "cell_type": "code",
      "source": [
        "from sklearn.ensemble import RandomForestRegressor\n",
        "# Instantiate model with 1000 decision trees\n",
        "regressor = RandomForestRegressor(n_estimators = 1000, random_state = 42)\n",
        "print(regressor)\n",
        "# Train the model on training data\n",
        "regressor.fit(X_train, y_train);\n",
        "#test\n",
        "y_pred = regressor.predict(X_test)\n",
        "r2_score = regressor.score(X_test,y_test)\n",
        "print(r2_score*100,'%')"
      ],
      "metadata": {
        "colab": {
          "base_uri": "https://localhost:8080/"
        },
        "id": "HSR_lZ1VK51B",
        "outputId": "560d028c-e7a1-41ed-b6bb-594c7bb1ae48"
      },
      "execution_count": null,
      "outputs": [
        {
          "output_type": "stream",
          "name": "stdout",
          "text": [
            "RandomForestRegressor(n_estimators=1000, random_state=42)\n",
            "90.28793079773362 %\n"
          ]
        }
      ]
    }
  ]
}